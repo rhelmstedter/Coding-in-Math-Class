{
  "nbformat": 4,
  "nbformat_minor": 0,
  "metadata": {
    "colab": {
      "name": "collatz-sequence.ipynb",
      "provenance": [],
      "authorship_tag": "ABX9TyOMb2Q3urfpfjlyZQDJPq9u",
      "include_colab_link": true
    },
    "kernelspec": {
      "name": "python3",
      "display_name": "Python 3"
    },
    "language_info": {
      "name": "python"
    }
  },
  "cells": [
    {
      "cell_type": "markdown",
      "metadata": {
        "id": "view-in-github",
        "colab_type": "text"
      },
      "source": [
        "<a href=\"https://colab.research.google.com/github/rhelmstedter/Coding-in-Math-Class/blob/main/coing-activities/collatz_sequence.ipynb\" target=\"_parent\"><img src=\"https://colab.research.google.com/assets/colab-badge.svg\" alt=\"Open In Colab\"/></a>"
      ]
    },
    {
      "cell_type": "code",
      "metadata": {
        "id": "sa9DuUXWMUFs"
      },
      "source": [
        "def collatz(number):\n",
        "\n",
        "    if number % 2 == 0: #percent sign is the modulus operator\n",
        "        print(number // 2)\n",
        "        return number // 2\n",
        "\n",
        "    elif number % 2 == 1:\n",
        "        result = 3 * number + 1\n",
        "        print(result)\n",
        "        return result\n",
        "\n",
        "n = input(\"Give me a number: \")\n",
        "try:\n",
        "    while n != 1:\n",
        "        n = collatz(int(n))\n",
        "    if int(n) < 1:\n",
        "        print('Please enter a positive integer.')\n",
        "        n = input(\"Give me a number: \")\n",
        "    elif n == 1:\n",
        "        print('Done.')\n",
        "except ValueError:\n",
        "        print('Please enter a positive integer.')\n",
        "        n = input(\"Give me a number: \")"
      ],
      "execution_count": null,
      "outputs": []
    }
  ]
}