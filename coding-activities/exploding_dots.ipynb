{
  "nbformat": 4,
  "nbformat_minor": 0,
  "metadata": {
    "colab": {
      "name": "exploding-dots.ipynb",
      "provenance": [],
      "authorship_tag": "ABX9TyPRrsCgpIbU1cmo+/XW79FG",
      "include_colab_link": true
    },
    "kernelspec": {
      "name": "python3",
      "display_name": "Python 3"
    },
    "language_info": {
      "name": "python"
    }
  },
  "cells": [
    {
      "cell_type": "markdown",
      "metadata": {
        "id": "view-in-github",
        "colab_type": "text"
      },
      "source": [
        "<a href=\"https://colab.research.google.com/github/rhelmstedter/Coding-in-Math-Class/blob/main/coding-activities/exploding_dots.ipynb\" target=\"_parent\"><img src=\"https://colab.research.google.com/assets/colab-badge.svg\" alt=\"Open In Colab\"/></a>"
      ]
    },
    {
      "cell_type": "code",
      "metadata": {
        "id": "mTeznymSCuoi"
      },
      "source": [
        "#! python\n",
        "\n",
        "def exploding_dots(number, base):\n",
        "    machine = [] # machine starts as emptylist\n",
        "    print()\n",
        "    print(f\"The code for {number} in a 1 <- {base} machine is:\\n\")\n",
        "    while number >= base:\n",
        "        explosions = number//base \n",
        "        leftoverDots = number%base\n",
        "        machine.append(leftoverDots)\n",
        "        number = explosions\n",
        "    machine.append(number)\n",
        "    for digit in reversed(machine): # the list starts with 1s digit so we have to reverse it\n",
        "        print(f\"| {digit}\", end=\" \")\n",
        "\n",
        "\n",
        "# takes input from user and converts to integers\n",
        "base = int(input(\"Enter the machine do you want to work in? \"))\n",
        "number = int(input(f\"Enter a number into the 1 <- {base} machine: \"))\n",
        "\n",
        "exploding_dots(number, base)\n",
        "print()\n"
      ],
      "execution_count": null,
      "outputs": []
    }
  ]
}