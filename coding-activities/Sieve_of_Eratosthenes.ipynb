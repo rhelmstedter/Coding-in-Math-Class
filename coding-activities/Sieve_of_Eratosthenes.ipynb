{
  "nbformat": 4,
  "nbformat_minor": 0,
  "metadata": {
    "colab": {
      "name": "Sieve of Eratosthenes.ipynb",
      "provenance": [],
      "include_colab_link": true
    },
    "kernelspec": {
      "name": "python3",
      "display_name": "Python 3"
    }
  },
  "cells": [
    {
      "cell_type": "markdown",
      "metadata": {
        "id": "view-in-github",
        "colab_type": "text"
      },
      "source": [
        "<a href=\"https://colab.research.google.com/github/rhelmstedter/Coding-in-Math-Class/blob/main/coding-activities/Sieve_of_Eratosthenes.ipynb\" target=\"_parent\"><img src=\"https://colab.research.google.com/assets/colab-badge.svg\" alt=\"Open In Colab\"/></a>"
      ]
    },
    {
      "cell_type": "markdown",
      "metadata": {
        "id": "b0G4vryilt8Q"
      },
      "source": [
        "The code below is a literal replication of the Sieve of Eratosthenes. The program makes a list up to n. It starts with 2 and then ~~crosses off~~ removes all the remaining multiples of 2. Moves to the next number, and removes the remaining multuples of that number until it reaches n.  "
      ]
    },
    {
      "cell_type": "code",
      "metadata": {
        "id": "s2v3jcAppQeX",
        "colab": {
          "base_uri": "https://localhost:8080/",
          "height": 51
        },
        "outputId": "c167f795-e5db-4dc3-e88d-d6f75b09b0be"
      },
      "source": [
        "#ask for number\n",
        "n = input(\"Enter a number: \")\n",
        "\n",
        "#create a list up to n\n",
        "num_list = []\n",
        "elem = 1\n",
        "for i in range(int(n)-1):\n",
        "  elem = elem + 1\n",
        "  num_list.append(elem)\n",
        "\n",
        "#remove composites\n",
        "for mod in num_list:\n",
        "  for num in num_list:\n",
        "    if num > mod and num % mod == 0:\n",
        "      num_list.remove(num)\n",
        "\n",
        "print(\"The prime numbers up to \" + n  + \" are: \" + str(num_list))\n"
      ],
      "execution_count": null,
      "outputs": [
        {
          "output_type": "stream",
          "text": [
            "Enter a number: 20\n",
            "The prime numbers up to 20 are: [2, 3, 5, 7, 11, 13, 17, 19]\n"
          ],
          "name": "stdout"
        }
      ]
    },
    {
      "cell_type": "markdown",
      "metadata": {
        "id": "e6tj_kgfm5Op"
      },
      "source": [
        "u/17291 on reddit was kind enough to point out that the code above is inefficient for n > $10^5$ for the following reasons.\n",
        "\n",
        ">1. You're doing a whole bunch of unnecessary checks to see if a number is divisible by `mod`. For example, if num is divisible by 23, there is no point in checking if (num + 1) is divisible by 23—you can just skip ahead to (num + 23).\n",
        ">\n",
        ">2. `remove` is going to slow you down considerably because you it has to check every element in the list to see if it matches `num`\n",
        ">\n",
        ">A better solution is to create a list of booleans, where True means that it's a prime and False means it isn't. Start with 2 and then skip-count by 2s setting every multiple of 2 to False (other than 2 * 1, of course).\n",
        ">\n",
        ">Once you've reached the end of the list, increment `prime` until you've found the next prime (i.e., the next number that's still True). Now, skip-count by that number. Rinse and repeat.\n",
        "\n",
        "u/17291 was also kind enought to give some sample code found below. "
      ]
    },
    {
      "cell_type": "code",
      "metadata": {
        "id": "QB-zvBg_m4OF"
      },
      "source": [
        "def sieve(n):\n",
        "    # All numbers are prime to begin with\n",
        "    num_list = [True] * (n + 1)\n",
        "    prime = 2\n",
        "    while prime < n + 1:\n",
        "        # Skip count, setting all multiples of `prime` to be composite\n",
        "        for i in range(prime * 2, n + 1, prime):\n",
        "            num_list[i] = False\n",
        "        # Advance `prime` until we've found the next prime\n",
        "        prime += 1\n",
        "        while prime < n + 1 and not num_list[prime]:\n",
        "            prime += 1\n",
        "    # Return a list of all primes (i.e., every value from num_list that's True)\n",
        "    return [n for n in range(2, n + 1) if num_list[n]]"
      ],
      "execution_count": null,
      "outputs": []
    }
  ]
}