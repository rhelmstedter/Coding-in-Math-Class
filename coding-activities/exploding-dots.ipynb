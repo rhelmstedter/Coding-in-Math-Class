{
  "nbformat": 4,
  "nbformat_minor": 0,
  "metadata": {
    "colab": {
      "name": "Untitled1.ipynb",
      "provenance": [],
      "authorship_tag": "ABX9TyPj3xzQDYXTt2gfD0vmfnyd",
      "include_colab_link": true
    },
    "kernelspec": {
      "name": "python3",
      "display_name": "Python 3"
    },
    "language_info": {
      "name": "python"
    }
  },
  "cells": [
    {
      "cell_type": "markdown",
      "metadata": {
        "id": "view-in-github",
        "colab_type": "text"
      },
      "source": [
        "<a href=\"https://colab.research.google.com/github/rhelmstedter/Coding-in-Math-Class/blob/main/coding-activities/exploding-dots.ipynb\" target=\"_parent\"><img src=\"https://colab.research.google.com/assets/colab-badge.svg\" alt=\"Open In Colab\"/></a>"
      ]
    },
    {
      "cell_type": "code",
      "metadata": {
        "colab": {
          "base_uri": "https://localhost:8080/"
        },
        "id": "mTeznymSCuoi",
        "outputId": "1fefad68-6e13-4276-c0b3-dc299f8ca48b"
      },
      "source": [
        "#! python\n",
        "\n",
        "def exploding_dots(number, base):\n",
        "    machine = [] # machine starts as emptylist\n",
        "    while number >= base:\n",
        "        explosions = number//base \n",
        "        leftoverDots = number%base\n",
        "        machine.append(leftoverDots)\n",
        "        number = explosions\n",
        "    machine.append(number)\n",
        "    print()\n",
        "    print(f\"The code for {number} in a 1 <- {base} machine is:\\n\")\n",
        "    for digit in reversed(machine): # the list starts with 1s digit so we have to reverse it\n",
        "        print(f\"| {digit}\", end=\" \")\n",
        "\n",
        "\n",
        "# takes input from user and converts to integers\n",
        "base = int(input(\"Enter the machine do you want to work in? \"))\n",
        "number = int(input(f\"Enter a number into the 1 <- {base} machine: \"))\n",
        "\n",
        "exploding_dots(number, base)\n",
        "print()"
      ],
      "execution_count": 1,
      "outputs": [
        {
          "output_type": "stream",
          "text": [
            "Enter the machine do you want to work in? 2\n",
            "Enter a number into the 1 <- 2 machine: 13\n",
            "\n",
            "The code for 1 in a 1 <- 2 machine is:\n",
            "\n",
            "| 1 | 1 | 0 | 1 \n"
          ],
          "name": "stdout"
        }
      ]
    }
  ]
}