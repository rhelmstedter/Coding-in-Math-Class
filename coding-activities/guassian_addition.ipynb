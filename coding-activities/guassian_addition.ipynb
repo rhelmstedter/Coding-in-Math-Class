{
  "nbformat": 4,
  "nbformat_minor": 0,
  "metadata": {
    "colab": {
      "name": "guassian-addition.ipynb",
      "provenance": [],
      "authorship_tag": "ABX9TyNpsaw0twDexxcp2JhV6HtT",
      "include_colab_link": true
    },
    "kernelspec": {
      "name": "python3",
      "display_name": "Python 3"
    },
    "language_info": {
      "name": "python"
    }
  },
  "cells": [
    {
      "cell_type": "markdown",
      "metadata": {
        "id": "view-in-github",
        "colab_type": "text"
      },
      "source": [
        "<a href=\"https://colab.research.google.com/github/rhelmstedter/Coding-in-Math-Class/blob/main/coding-activities/guassian_addition.ipynb\" target=\"_parent\"><img src=\"https://colab.research.google.com/assets/colab-badge.svg\" alt=\"Open In Colab\"/></a>"
      ]
    },
    {
      "cell_type": "code",
      "metadata": {
        "id": "PpXbCx5HLqv8"
      },
      "source": [
        "def gauss_add(figure_number):\n",
        "    total = 0\n",
        "    for num in range (int(figure_number)+1):\n",
        "        total = total + num\n",
        "    print (f'The sum of integers from 1 to {figure_number} is {total}.')\n",
        "\n",
        "    \n",
        "print('What positive integer would you like add up to?')\n",
        "n = input()\n",
        "while (n.isdigit()==False):\n",
        "    print ('Please enter a positive integer.')\n",
        "    n=input()\n",
        "while (n.isdigit()):\n",
        "    if int(n) < 1:\n",
        "        print ('Please enter a positive integer.')\n",
        "        n=input()\n",
        "    else:\n",
        "        gauss_add(n)\n",
        "        print()\n",
        "        print('Would you like to try another one?')\n",
        "        n=input()"
      ],
      "execution_count": null,
      "outputs": []
    }
  ]
}